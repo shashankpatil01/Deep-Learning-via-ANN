{
 "cells": [
  {
   "cell_type": "markdown",
   "id": "59fcdc67",
   "metadata": {},
   "source": [
    "# Deep Learning via ANN"
   ]
  },
  {
   "cell_type": "markdown",
   "id": "bbef6b71",
   "metadata": {},
   "source": [
    "### Import Libraries"
   ]
  },
  {
   "cell_type": "code",
   "execution_count": 1,
   "id": "1adb5ce8",
   "metadata": {},
   "outputs": [],
   "source": [
    "import numpy as np\n",
    "import pandas as pd\n",
    "import matplotlib.pyplot as plt"
   ]
  },
  {
   "cell_type": "code",
   "execution_count": 2,
   "id": "123e36e4",
   "metadata": {},
   "outputs": [],
   "source": [
    "import tensorflow as tf"
   ]
  },
  {
   "cell_type": "markdown",
   "id": "55c93f45",
   "metadata": {},
   "source": [
    "### Importing Dataset"
   ]
  },
  {
   "cell_type": "code",
   "execution_count": 3,
   "id": "f37ddbf7",
   "metadata": {},
   "outputs": [],
   "source": [
    "dataset = pd.read_csv(\"american_exp.csv\")"
   ]
  },
  {
   "cell_type": "code",
   "execution_count": 4,
   "id": "1dc7dc16",
   "metadata": {},
   "outputs": [],
   "source": [
    "X = dataset.iloc[:, 0:-1].values\n",
    "y = dataset.iloc[:, -1].values"
   ]
  },
  {
   "cell_type": "code",
   "execution_count": 5,
   "id": "1d762251",
   "metadata": {
    "scrolled": true
   },
   "outputs": [
    {
     "name": "stdout",
     "output_type": "stream",
     "text": [
      "[[553 'Delhi' 'Female' ... 4 1 274150]\n",
      " [447 'Bengaluru' 'Male' ... 4 1 519360]\n",
      " [501 'Delhi' 'Female' ... 4 1 545501]\n",
      " ...\n",
      " [627 'Mumbai' 'Female' ... 4 0 494067]\n",
      " [600 'Bengaluru' 'Female' ... 2 1 109375]\n",
      " [553 'Delhi' 'Male' ... 4 1 180031]]\n"
     ]
    }
   ],
   "source": [
    "print(X)"
   ]
  },
  {
   "cell_type": "markdown",
   "id": "b8ddac3e",
   "metadata": {},
   "source": [
    "### Enconding Categorical data"
   ]
  },
  {
   "cell_type": "markdown",
   "id": "3ce800b6",
   "metadata": {},
   "source": [
    "### Gender Column : Label Encoding"
   ]
  },
  {
   "cell_type": "code",
   "execution_count": 6,
   "id": "c34cfc34",
   "metadata": {},
   "outputs": [],
   "source": [
    "from sklearn.preprocessing import LabelEncoder\n",
    "label_encoder = LabelEncoder()\n",
    "X[:, 2] = label_encoder.fit_transform(X[:, 2])"
   ]
  },
  {
   "cell_type": "code",
   "execution_count": 7,
   "id": "2f438c89",
   "metadata": {},
   "outputs": [
    {
     "name": "stdout",
     "output_type": "stream",
     "text": [
      "[[553 'Delhi' 0 ... 4 1 274150]\n",
      " [447 'Bengaluru' 1 ... 4 1 519360]\n",
      " [501 'Delhi' 0 ... 4 1 545501]\n",
      " ...\n",
      " [627 'Mumbai' 0 ... 4 0 494067]\n",
      " [600 'Bengaluru' 0 ... 2 1 109375]\n",
      " [553 'Delhi' 1 ... 4 1 180031]]\n"
     ]
    }
   ],
   "source": [
    "print(X)"
   ]
  },
  {
   "cell_type": "markdown",
   "id": "81b3fce8",
   "metadata": {},
   "source": [
    "### Geography Column : One Hot Encoding"
   ]
  },
  {
   "cell_type": "code",
   "execution_count": 8,
   "id": "38c00953",
   "metadata": {},
   "outputs": [],
   "source": [
    "from sklearn.compose import ColumnTransformer\n",
    "from sklearn.preprocessing import OneHotEncoder\n",
    "ct = ColumnTransformer(transformers = [(\"encoder\", OneHotEncoder(), [1])], remainder = \"passthrough\")\n",
    "X = np.array(ct.fit_transform(X))"
   ]
  },
  {
   "cell_type": "code",
   "execution_count": 9,
   "id": "16f2991b",
   "metadata": {},
   "outputs": [
    {
     "name": "stdout",
     "output_type": "stream",
     "text": [
      "[[0.0 1.0 0.0 ... 4 1 274150]\n",
      " [1.0 0.0 0.0 ... 4 1 519360]\n",
      " [0.0 1.0 0.0 ... 4 1 545501]\n",
      " ...\n",
      " [0.0 0.0 1.0 ... 4 0 494067]\n",
      " [1.0 0.0 0.0 ... 2 1 109375]\n",
      " [0.0 1.0 0.0 ... 4 1 180031]]\n"
     ]
    }
   ],
   "source": [
    "print(X)"
   ]
  },
  {
   "cell_type": "markdown",
   "id": "0054cc93",
   "metadata": {},
   "source": [
    "### Splitting dataset into training and test dataset"
   ]
  },
  {
   "cell_type": "code",
   "execution_count": 10,
   "id": "015b959c",
   "metadata": {},
   "outputs": [],
   "source": [
    "from sklearn.model_selection import train_test_split\n",
    "X_train, X_test, y_train, y_test = train_test_split(X, y, test_size = 0.2, random_state = 21)"
   ]
  },
  {
   "cell_type": "markdown",
   "id": "e33e450a",
   "metadata": {},
   "source": [
    "### Feature Scaling of the model"
   ]
  },
  {
   "cell_type": "code",
   "execution_count": 11,
   "id": "606fbd13",
   "metadata": {},
   "outputs": [],
   "source": [
    "from sklearn.preprocessing import StandardScaler\n",
    "sc = StandardScaler()\n",
    "X_train = sc.fit_transform(X_train)\n",
    "X_test = sc.fit_transform(X_test)"
   ]
  },
  {
   "cell_type": "markdown",
   "id": "4d707846",
   "metadata": {},
   "source": [
    "## ANN"
   ]
  },
  {
   "cell_type": "markdown",
   "id": "6e98119b",
   "metadata": {},
   "source": [
    "### Initialization"
   ]
  },
  {
   "cell_type": "code",
   "execution_count": 12,
   "id": "1a060d32",
   "metadata": {},
   "outputs": [],
   "source": [
    "from keras.models import Sequential\n",
    "from keras.layers import Dense"
   ]
  },
  {
   "cell_type": "code",
   "execution_count": 13,
   "id": "8fc75408",
   "metadata": {},
   "outputs": [],
   "source": [
    "ann = Sequential()"
   ]
  },
  {
   "cell_type": "markdown",
   "id": "028c6cc7",
   "metadata": {},
   "source": [
    "### Adding Inpu Layer and First Hidden Layer"
   ]
  },
  {
   "cell_type": "code",
   "execution_count": 14,
   "id": "e61c90e2",
   "metadata": {},
   "outputs": [],
   "source": [
    "ann.add(Dense(64, input_shape = (11, ), activation = \"relu\"))"
   ]
  },
  {
   "cell_type": "markdown",
   "id": "cc626e66",
   "metadata": {},
   "source": [
    "### Adding Second Hidden Layer"
   ]
  },
  {
   "cell_type": "code",
   "execution_count": 15,
   "id": "358fa846",
   "metadata": {},
   "outputs": [],
   "source": [
    "ann.add(Dense(32, activation = \"relu\"))"
   ]
  },
  {
   "cell_type": "markdown",
   "id": "03b39da0",
   "metadata": {},
   "source": [
    "### Adding Output Layer"
   ]
  },
  {
   "cell_type": "code",
   "execution_count": 16,
   "id": "a1928b8b",
   "metadata": {},
   "outputs": [],
   "source": [
    "ann.add(Dense(1, activation = \"sigmoid\"))"
   ]
  },
  {
   "cell_type": "markdown",
   "id": "5f00f303",
   "metadata": {},
   "source": [
    "## ANN Training "
   ]
  },
  {
   "cell_type": "markdown",
   "id": "af984e7a",
   "metadata": {},
   "source": [
    "### Compiling"
   ]
  },
  {
   "cell_type": "code",
   "execution_count": 17,
   "id": "a42ace63",
   "metadata": {},
   "outputs": [],
   "source": [
    "ann.compile(optimizer = \"adam\", \n",
    "            loss = \"binary_crossentropy\", \n",
    "            metrics = [\"accuracy\"])"
   ]
  },
  {
   "cell_type": "markdown",
   "id": "29378057",
   "metadata": {},
   "source": [
    "### Training on dataset"
   ]
  },
  {
   "cell_type": "code",
   "execution_count": 18,
   "id": "75e89587",
   "metadata": {},
   "outputs": [
    {
     "name": "stdout",
     "output_type": "stream",
     "text": [
      "Epoch 1/120\n",
      "249/249 [==============================] - 1s 581us/step - loss: 0.4689 - accuracy: 0.7956\n",
      "Epoch 2/120\n",
      "249/249 [==============================] - 0s 581us/step - loss: 0.4153 - accuracy: 0.8160\n",
      "Epoch 3/120\n",
      "249/249 [==============================] - 0s 577us/step - loss: 0.3889 - accuracy: 0.8333\n",
      "Epoch 4/120\n",
      "249/249 [==============================] - 0s 577us/step - loss: 0.3722 - accuracy: 0.8432\n",
      "Epoch 5/120\n",
      "249/249 [==============================] - 0s 569us/step - loss: 0.3624 - accuracy: 0.8452\n",
      "Epoch 6/120\n",
      "249/249 [==============================] - 0s 569us/step - loss: 0.3556 - accuracy: 0.8513\n",
      "Epoch 7/120\n",
      "249/249 [==============================] - 0s 577us/step - loss: 0.3526 - accuracy: 0.8496\n",
      "Epoch 8/120\n",
      "249/249 [==============================] - 0s 569us/step - loss: 0.3499 - accuracy: 0.8528\n",
      "Epoch 9/120\n",
      "249/249 [==============================] - 0s 573us/step - loss: 0.3471 - accuracy: 0.8525\n",
      "Epoch 10/120\n",
      "249/249 [==============================] - 0s 577us/step - loss: 0.3456 - accuracy: 0.8535\n",
      "Epoch 11/120\n",
      "249/249 [==============================] - 0s 573us/step - loss: 0.3426 - accuracy: 0.8558\n",
      "Epoch 12/120\n",
      "249/249 [==============================] - 0s 577us/step - loss: 0.3403 - accuracy: 0.8532\n",
      "Epoch 13/120\n",
      "249/249 [==============================] - 0s 565us/step - loss: 0.3388 - accuracy: 0.8568\n",
      "Epoch 14/120\n",
      "249/249 [==============================] - 0s 573us/step - loss: 0.3383 - accuracy: 0.8557\n",
      "Epoch 15/120\n",
      "249/249 [==============================] - 0s 573us/step - loss: 0.3363 - accuracy: 0.8581\n",
      "Epoch 16/120\n",
      "249/249 [==============================] - 0s 585us/step - loss: 0.3340 - accuracy: 0.8577\n",
      "Epoch 17/120\n",
      "249/249 [==============================] - 0s 557us/step - loss: 0.3330 - accuracy: 0.8577\n",
      "Epoch 18/120\n",
      "249/249 [==============================] - 0s 569us/step - loss: 0.3316 - accuracy: 0.8612\n",
      "Epoch 19/120\n",
      "249/249 [==============================] - 0s 573us/step - loss: 0.3290 - accuracy: 0.8586\n",
      "Epoch 20/120\n",
      "249/249 [==============================] - 0s 565us/step - loss: 0.3290 - accuracy: 0.8564\n",
      "Epoch 21/120\n",
      "249/249 [==============================] - 0s 569us/step - loss: 0.3270 - accuracy: 0.8607\n",
      "Epoch 22/120\n",
      "249/249 [==============================] - 0s 565us/step - loss: 0.3264 - accuracy: 0.8626\n",
      "Epoch 23/120\n",
      "249/249 [==============================] - 0s 569us/step - loss: 0.3251 - accuracy: 0.8625\n",
      "Epoch 24/120\n",
      "249/249 [==============================] - 0s 565us/step - loss: 0.3243 - accuracy: 0.8620\n",
      "Epoch 25/120\n",
      "249/249 [==============================] - 0s 561us/step - loss: 0.3231 - accuracy: 0.8644\n",
      "Epoch 26/120\n",
      "249/249 [==============================] - 0s 573us/step - loss: 0.3201 - accuracy: 0.8665\n",
      "Epoch 27/120\n",
      "249/249 [==============================] - 0s 565us/step - loss: 0.3194 - accuracy: 0.8653\n",
      "Epoch 28/120\n",
      "249/249 [==============================] - 0s 565us/step - loss: 0.3193 - accuracy: 0.8646\n",
      "Epoch 29/120\n",
      "249/249 [==============================] - 0s 569us/step - loss: 0.3183 - accuracy: 0.8644\n",
      "Epoch 30/120\n",
      "249/249 [==============================] - 0s 561us/step - loss: 0.3170 - accuracy: 0.8642\n",
      "Epoch 31/120\n",
      "249/249 [==============================] - 0s 561us/step - loss: 0.3165 - accuracy: 0.8646\n",
      "Epoch 32/120\n",
      "249/249 [==============================] - 0s 621us/step - loss: 0.3145 - accuracy: 0.8670\n",
      "Epoch 33/120\n",
      "249/249 [==============================] - 0s 569us/step - loss: 0.3131 - accuracy: 0.8670\n",
      "Epoch 34/120\n",
      "249/249 [==============================] - 0s 561us/step - loss: 0.3133 - accuracy: 0.8683\n",
      "Epoch 35/120\n",
      "249/249 [==============================] - 0s 573us/step - loss: 0.3107 - accuracy: 0.8676\n",
      "Epoch 36/120\n",
      "249/249 [==============================] - 0s 573us/step - loss: 0.3096 - accuracy: 0.8680\n",
      "Epoch 37/120\n",
      "249/249 [==============================] - 0s 561us/step - loss: 0.3091 - accuracy: 0.8713\n",
      "Epoch 38/120\n",
      "249/249 [==============================] - 0s 569us/step - loss: 0.3074 - accuracy: 0.8688\n",
      "Epoch 39/120\n",
      "249/249 [==============================] - 0s 565us/step - loss: 0.3078 - accuracy: 0.8688\n",
      "Epoch 40/120\n",
      "249/249 [==============================] - 0s 573us/step - loss: 0.3076 - accuracy: 0.8692\n",
      "Epoch 41/120\n",
      "249/249 [==============================] - 0s 561us/step - loss: 0.3054 - accuracy: 0.8709\n",
      "Epoch 42/120\n",
      "249/249 [==============================] - 0s 565us/step - loss: 0.3029 - accuracy: 0.8727\n",
      "Epoch 43/120\n",
      "249/249 [==============================] - 0s 557us/step - loss: 0.3023 - accuracy: 0.8702\n",
      "Epoch 44/120\n",
      "249/249 [==============================] - 0s 565us/step - loss: 0.3019 - accuracy: 0.8704\n",
      "Epoch 45/120\n",
      "249/249 [==============================] - 0s 561us/step - loss: 0.3011 - accuracy: 0.8721\n",
      "Epoch 46/120\n",
      "249/249 [==============================] - 0s 569us/step - loss: 0.3004 - accuracy: 0.8716\n",
      "Epoch 47/120\n",
      "249/249 [==============================] - 0s 569us/step - loss: 0.3011 - accuracy: 0.8700\n",
      "Epoch 48/120\n",
      "249/249 [==============================] - 0s 565us/step - loss: 0.2985 - accuracy: 0.8741\n",
      "Epoch 49/120\n",
      "249/249 [==============================] - 0s 565us/step - loss: 0.2974 - accuracy: 0.8739\n",
      "Epoch 50/120\n",
      "249/249 [==============================] - 0s 565us/step - loss: 0.2966 - accuracy: 0.8746\n",
      "Epoch 51/120\n",
      "249/249 [==============================] - 0s 561us/step - loss: 0.2960 - accuracy: 0.8741\n",
      "Epoch 52/120\n",
      "249/249 [==============================] - 0s 581us/step - loss: 0.2965 - accuracy: 0.8726\n",
      "Epoch 53/120\n",
      "249/249 [==============================] - 0s 577us/step - loss: 0.2969 - accuracy: 0.8727\n",
      "Epoch 54/120\n",
      "249/249 [==============================] - 0s 569us/step - loss: 0.2950 - accuracy: 0.8765\n",
      "Epoch 55/120\n",
      "249/249 [==============================] - 0s 561us/step - loss: 0.2927 - accuracy: 0.8775\n",
      "Epoch 56/120\n",
      "249/249 [==============================] - 0s 565us/step - loss: 0.2934 - accuracy: 0.8791\n",
      "Epoch 57/120\n",
      "249/249 [==============================] - 0s 561us/step - loss: 0.2900 - accuracy: 0.8780\n",
      "Epoch 58/120\n",
      "249/249 [==============================] - 0s 569us/step - loss: 0.2907 - accuracy: 0.8756\n",
      "Epoch 59/120\n",
      "249/249 [==============================] - 0s 565us/step - loss: 0.2916 - accuracy: 0.8776\n",
      "Epoch 60/120\n",
      "249/249 [==============================] - 0s 561us/step - loss: 0.2897 - accuracy: 0.8773\n",
      "Epoch 61/120\n",
      "249/249 [==============================] - 0s 569us/step - loss: 0.2888 - accuracy: 0.8753\n",
      "Epoch 62/120\n",
      "249/249 [==============================] - 0s 561us/step - loss: 0.2877 - accuracy: 0.8801\n",
      "Epoch 63/120\n",
      "249/249 [==============================] - 0s 569us/step - loss: 0.2876 - accuracy: 0.8777\n",
      "Epoch 64/120\n",
      "249/249 [==============================] - 0s 565us/step - loss: 0.2866 - accuracy: 0.8797\n",
      "Epoch 65/120\n",
      "249/249 [==============================] - 0s 565us/step - loss: 0.2854 - accuracy: 0.8775\n",
      "Epoch 66/120\n",
      "249/249 [==============================] - 0s 573us/step - loss: 0.2858 - accuracy: 0.8800\n",
      "Epoch 67/120\n",
      "249/249 [==============================] - 0s 565us/step - loss: 0.2848 - accuracy: 0.8782\n",
      "Epoch 68/120\n",
      "249/249 [==============================] - 0s 569us/step - loss: 0.2845 - accuracy: 0.8797\n",
      "Epoch 69/120\n",
      "249/249 [==============================] - 0s 569us/step - loss: 0.2831 - accuracy: 0.8805\n",
      "Epoch 70/120\n",
      "249/249 [==============================] - 0s 573us/step - loss: 0.2834 - accuracy: 0.8792\n",
      "Epoch 71/120\n",
      "249/249 [==============================] - 0s 569us/step - loss: 0.2833 - accuracy: 0.8784\n",
      "Epoch 72/120\n",
      "249/249 [==============================] - 0s 573us/step - loss: 0.2785 - accuracy: 0.8838\n",
      "Epoch 73/120\n",
      "249/249 [==============================] - 0s 573us/step - loss: 0.2804 - accuracy: 0.8838\n",
      "Epoch 74/120\n",
      "249/249 [==============================] - 0s 569us/step - loss: 0.2807 - accuracy: 0.8799\n",
      "Epoch 75/120\n",
      "249/249 [==============================] - 0s 569us/step - loss: 0.2797 - accuracy: 0.8819\n",
      "Epoch 76/120\n",
      "249/249 [==============================] - 0s 577us/step - loss: 0.2782 - accuracy: 0.8812\n",
      "Epoch 77/120\n",
      "249/249 [==============================] - 0s 573us/step - loss: 0.2768 - accuracy: 0.8819\n",
      "Epoch 78/120\n",
      "249/249 [==============================] - 0s 573us/step - loss: 0.2782 - accuracy: 0.8844\n",
      "Epoch 79/120\n",
      "249/249 [==============================] - 0s 573us/step - loss: 0.2765 - accuracy: 0.8846\n",
      "Epoch 80/120\n",
      "249/249 [==============================] - 0s 569us/step - loss: 0.2754 - accuracy: 0.8811\n",
      "Epoch 81/120\n",
      "249/249 [==============================] - 0s 561us/step - loss: 0.2766 - accuracy: 0.8812\n",
      "Epoch 82/120\n",
      "249/249 [==============================] - 0s 577us/step - loss: 0.2749 - accuracy: 0.8823\n",
      "Epoch 83/120\n",
      "249/249 [==============================] - 0s 565us/step - loss: 0.2735 - accuracy: 0.8833\n",
      "Epoch 84/120\n",
      "249/249 [==============================] - 0s 565us/step - loss: 0.2753 - accuracy: 0.8843\n",
      "Epoch 85/120\n",
      "249/249 [==============================] - 0s 561us/step - loss: 0.2740 - accuracy: 0.8823\n",
      "Epoch 86/120\n",
      "249/249 [==============================] - 0s 577us/step - loss: 0.2723 - accuracy: 0.8838\n",
      "Epoch 87/120\n",
      "249/249 [==============================] - 0s 565us/step - loss: 0.2713 - accuracy: 0.8833\n",
      "Epoch 88/120\n",
      "249/249 [==============================] - 0s 565us/step - loss: 0.2702 - accuracy: 0.8857\n",
      "Epoch 89/120\n",
      "249/249 [==============================] - 0s 577us/step - loss: 0.2714 - accuracy: 0.8858\n",
      "Epoch 90/120\n",
      "249/249 [==============================] - 0s 577us/step - loss: 0.2702 - accuracy: 0.8855\n",
      "Epoch 91/120\n",
      "249/249 [==============================] - 0s 569us/step - loss: 0.2695 - accuracy: 0.8868\n",
      "Epoch 92/120\n",
      "249/249 [==============================] - 0s 573us/step - loss: 0.2680 - accuracy: 0.8886\n",
      "Epoch 93/120\n",
      "249/249 [==============================] - 0s 573us/step - loss: 0.2698 - accuracy: 0.8877\n",
      "Epoch 94/120\n",
      "249/249 [==============================] - 0s 569us/step - loss: 0.2691 - accuracy: 0.8875\n",
      "Epoch 95/120\n",
      "249/249 [==============================] - 0s 569us/step - loss: 0.2685 - accuracy: 0.8846\n",
      "Epoch 96/120\n",
      "249/249 [==============================] - 0s 569us/step - loss: 0.2688 - accuracy: 0.8870\n",
      "Epoch 97/120\n",
      "249/249 [==============================] - 0s 565us/step - loss: 0.2682 - accuracy: 0.8850\n",
      "Epoch 98/120\n",
      "249/249 [==============================] - 0s 569us/step - loss: 0.2641 - accuracy: 0.8893\n",
      "Epoch 99/120\n",
      "249/249 [==============================] - 0s 569us/step - loss: 0.2660 - accuracy: 0.8855\n",
      "Epoch 100/120\n",
      "249/249 [==============================] - 0s 569us/step - loss: 0.2655 - accuracy: 0.8869\n",
      "Epoch 101/120\n",
      "249/249 [==============================] - 0s 565us/step - loss: 0.2643 - accuracy: 0.8898\n",
      "Epoch 102/120\n",
      "249/249 [==============================] - 0s 569us/step - loss: 0.2675 - accuracy: 0.8828\n",
      "Epoch 103/120\n",
      "249/249 [==============================] - 0s 573us/step - loss: 0.2633 - accuracy: 0.8872\n",
      "Epoch 104/120\n",
      "249/249 [==============================] - 0s 565us/step - loss: 0.2625 - accuracy: 0.8868\n",
      "Epoch 105/120\n",
      "249/249 [==============================] - 0s 573us/step - loss: 0.2632 - accuracy: 0.8899\n",
      "Epoch 106/120\n",
      "249/249 [==============================] - 0s 569us/step - loss: 0.2620 - accuracy: 0.8888\n",
      "Epoch 107/120\n",
      "249/249 [==============================] - 0s 573us/step - loss: 0.2589 - accuracy: 0.8907\n",
      "Epoch 108/120\n",
      "249/249 [==============================] - 0s 569us/step - loss: 0.2585 - accuracy: 0.8888\n",
      "Epoch 109/120\n",
      "249/249 [==============================] - 0s 573us/step - loss: 0.2605 - accuracy: 0.8899\n",
      "Epoch 110/120\n",
      "249/249 [==============================] - 0s 565us/step - loss: 0.2600 - accuracy: 0.8898\n",
      "Epoch 111/120\n",
      "249/249 [==============================] - 0s 577us/step - loss: 0.2598 - accuracy: 0.8873\n",
      "Epoch 112/120\n",
      "249/249 [==============================] - 0s 569us/step - loss: 0.2605 - accuracy: 0.8894\n",
      "Epoch 113/120\n",
      "249/249 [==============================] - 0s 573us/step - loss: 0.2616 - accuracy: 0.8877\n",
      "Epoch 114/120\n",
      "249/249 [==============================] - 0s 577us/step - loss: 0.2570 - accuracy: 0.8927\n",
      "Epoch 115/120\n",
      "249/249 [==============================] - 0s 573us/step - loss: 0.2582 - accuracy: 0.8903\n",
      "Epoch 116/120\n",
      "249/249 [==============================] - 0s 577us/step - loss: 0.2585 - accuracy: 0.8902\n",
      "Epoch 117/120\n",
      "249/249 [==============================] - 0s 577us/step - loss: 0.2569 - accuracy: 0.8925\n",
      "Epoch 118/120\n",
      "249/249 [==============================] - 0s 569us/step - loss: 0.2578 - accuracy: 0.8891\n",
      "Epoch 119/120\n",
      "249/249 [==============================] - 0s 577us/step - loss: 0.2568 - accuracy: 0.8908\n",
      "Epoch 120/120\n",
      "249/249 [==============================] - 0s 577us/step - loss: 0.2586 - accuracy: 0.8925\n"
     ]
    },
    {
     "data": {
      "text/plain": [
       "<keras.callbacks.History at 0x2d1dc7b1f10>"
      ]
     },
     "execution_count": 18,
     "metadata": {},
     "output_type": "execute_result"
    }
   ],
   "source": [
    "ann.fit(X_train, y_train, epochs = 120, batch_size =32)"
   ]
  },
  {
   "cell_type": "markdown",
   "id": "5d827567",
   "metadata": {},
   "source": [
    "### Predictions"
   ]
  },
  {
   "cell_type": "markdown",
   "id": "69564128",
   "metadata": {},
   "source": [
    "### Single Prediction"
   ]
  },
  {
   "cell_type": "code",
   "execution_count": 19,
   "id": "1f55f8eb",
   "metadata": {},
   "outputs": [
    {
     "name": "stdout",
     "output_type": "stream",
     "text": [
      "1/1 [==============================] - 0s 52ms/step\n",
      "[[False]]\n"
     ]
    }
   ],
   "source": [
    "print(ann.predict(sc.transform([[0.0, 1.0, 0.0, 501, 0, 32, 2, 0.0, 4, 1, 545501]])) > 0.5)"
   ]
  },
  {
   "cell_type": "markdown",
   "id": "5978c44b",
   "metadata": {},
   "source": [
    "### Prediction on dataset"
   ]
  },
  {
   "cell_type": "code",
   "execution_count": 20,
   "id": "6e568484",
   "metadata": {},
   "outputs": [
    {
     "name": "stdout",
     "output_type": "stream",
     "text": [
      "63/63 [==============================] - 0s 468us/step\n",
      "[[0 0]\n",
      " [0 0]\n",
      " [0 1]\n",
      " ...\n",
      " [0 1]\n",
      " [0 0]\n",
      " [0 0]]\n"
     ]
    }
   ],
   "source": [
    "y_pred = ann.predict(X_test)\n",
    "y_pred = (y_pred > 0.5)\n",
    "print(np.concatenate((y_pred.reshape(len(y_pred), 1), y_test.reshape(len(y_test),1)),1))"
   ]
  },
  {
   "cell_type": "markdown",
   "id": "014e1700",
   "metadata": {},
   "source": [
    "### Confusion Matrix"
   ]
  },
  {
   "cell_type": "code",
   "execution_count": 21,
   "id": "f53a4f63",
   "metadata": {},
   "outputs": [
    {
     "name": "stdout",
     "output_type": "stream",
     "text": [
      "[[1493  109]\n",
      " [ 205  179]]\n"
     ]
    },
    {
     "data": {
      "text/plain": [
       "0.8418932527693856"
      ]
     },
     "execution_count": 21,
     "metadata": {},
     "output_type": "execute_result"
    }
   ],
   "source": [
    "from sklearn.metrics import confusion_matrix, accuracy_score\n",
    "cm = confusion_matrix(y_test, y_pred)\n",
    "print(cm)\n",
    "accuracy_score(y_test, y_pred)"
   ]
  },
  {
   "cell_type": "markdown",
   "id": "93e44b13",
   "metadata": {},
   "source": [
    "## So therefore we get a Artificical Neural Network with an accuracy of 84.18 % (approx.)"
   ]
  }
 ],
 "metadata": {
  "kernelspec": {
   "display_name": "Python 3 (ipykernel)",
   "language": "python",
   "name": "python3"
  },
  "language_info": {
   "codemirror_mode": {
    "name": "ipython",
    "version": 3
   },
   "file_extension": ".py",
   "mimetype": "text/x-python",
   "name": "python",
   "nbconvert_exporter": "python",
   "pygments_lexer": "ipython3",
   "version": "3.9.12"
  }
 },
 "nbformat": 4,
 "nbformat_minor": 5
}
